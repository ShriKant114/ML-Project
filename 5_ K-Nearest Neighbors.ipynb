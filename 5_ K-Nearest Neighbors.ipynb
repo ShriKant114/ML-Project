{
  "nbformat": 4,
  "nbformat_minor": 0,
  "metadata": {
    "colab": {
      "provenance": [],
      "authorship_tag": "ABX9TyMVaWKi9SccBO8rNQ0KSzE2",
      "include_colab_link": true
    },
    "kernelspec": {
      "name": "python3",
      "display_name": "Python 3"
    },
    "language_info": {
      "name": "python"
    }
  },
  "cells": [
    {
      "cell_type": "markdown",
      "metadata": {
        "id": "view-in-github",
        "colab_type": "text"
      },
      "source": [
        "<a href=\"https://colab.research.google.com/github/ShriKant114/ML-Project/blob/main/practical_5.ipynb\" target=\"_parent\"><img src=\"https://colab.research.google.com/assets/colab-badge.svg\" alt=\"Open In Colab\"/></a>"
      ]
    },
    {
      "cell_type": "code",
      "execution_count": 28,
      "metadata": {
        "colab": {
          "base_uri": "https://localhost:8080/"
        },
        "id": "O1keXYm05xZK",
        "outputId": "dd985e9c-af89-497d-d163-74125253a2be"
      },
      "outputs": [
        {
          "output_type": "stream",
          "name": "stdout",
          "text": [
            "Predictions:\n",
            "\n",
            "✓ Correct:  Actual=1, Predicted=1\n",
            "✓ Correct:  Actual=0, Predicted=0\n",
            "✓ Correct:  Actual=1, Predicted=1\n",
            "✓ Correct:  Actual=1, Predicted=1\n",
            "✓ Correct:  Actual=1, Predicted=1\n",
            "✓ Correct:  Actual=1, Predicted=1\n",
            "✓ Correct:  Actual=0, Predicted=0\n",
            "✓ Correct:  Actual=0, Predicted=0\n",
            "✓ Correct:  Actual=0, Predicted=0\n",
            "✓ Correct:  Actual=0, Predicted=0\n",
            "✗ Wrong:    Actual=0, Predicted=1\n",
            "✓ Correct:  Actual=1, Predicted=1\n",
            "✓ Correct:  Actual=1, Predicted=1\n",
            "✓ Correct:  Actual=1, Predicted=1\n",
            "✓ Correct:  Actual=1, Predicted=1\n",
            "\n",
            "Total Correct Predictions: 14\n",
            "Total Wrong Predictions: 1\n",
            "Accuracy: 93.33%\n"
          ]
        }
      ],
      "source": [
        "import numpy as np\n",
        "import pandas as pd\n",
        "from sklearn.model_selection import train_test_split\n",
        "from sklearn.preprocessing import StandardScaler\n",
        "from sklearn.neighbors import KNeighborsClassifier\n",
        "\n",
        "# Features: [Height in cm, Weight in kg]\n",
        "# Target: 0 = Non-Athlete, 1 = Athlete\n",
        "data = pd.read_csv('/content/athlete_data.csv')\n",
        "\n",
        "df = pd.DataFrame(data)\n",
        "\n",
        "X = df[['Height', 'Weight']].values\n",
        "y = df['Target'].values\n",
        "\n",
        "scaler = StandardScaler()\n",
        "X = scaler.fit_transform(X)\n",
        "\n",
        "X_train, X_test, y_train, y_test = train_test_split(\n",
        "    X, y, test_size=0.3, random_state=42\n",
        ")\n",
        "\n",
        "k = 3\n",
        "knn = KNeighborsClassifier(n_neighbors=k)\n",
        "knn.fit(X_train, y_train)\n",
        "\n",
        "y_pred = knn.predict(X_test)\n",
        "\n",
        "correct = 0\n",
        "wrong = 0\n",
        "print(\"Predictions:\\n\")\n",
        "for actual, predicted in zip(y_test, y_pred):\n",
        "    if actual == predicted:\n",
        "        print(f\"Correct:  Actual={actual}, Predicted={predicted}\")\n",
        "        correct += 1\n",
        "    else:\n",
        "        print(f\"Wrong:    Actual={actual}, Predicted={predicted}\")\n",
        "        wrong += 1\n",
        "\n",
        "# Summary\n",
        "print(f\"\\nTotal Correct Predictions: {correct}\")\n",
        "print(f\"Total Wrong Predictions: {wrong}\")\n",
        "print(f\"Accuracy: {(correct / len(y_test)) * 100:.2f}%\")\n"
      ]
    },
    {
      "cell_type": "markdown",
      "source": [
        "**Dataset**"
      ],
      "metadata": {
        "id": "mkNQE9_173JA"
      }
    },
    {
      "cell_type": "code",
      "source": [
        "#Data Set Used\n",
        "print(df.head(50))\n"
      ],
      "metadata": {
        "colab": {
          "base_uri": "https://localhost:8080/"
        },
        "id": "u6bMJwyH9uxH",
        "outputId": "4c1fb965-ff65-4b9f-c5fc-90c23985fbcd"
      },
      "execution_count": 31,
      "outputs": [
        {
          "output_type": "stream",
          "name": "stdout",
          "text": [
            "    Height  Weight  Target\n",
            "0      170      65       0\n",
            "1      180      80       1\n",
            "2      160      55       0\n",
            "3      175      75       1\n",
            "4      185      90       1\n",
            "5      155      50       0\n",
            "6      165      60       0\n",
            "7      190      95       1\n",
            "8      200     100       1\n",
            "9      158      52       0\n",
            "10     178      78       1\n",
            "11     182      85       1\n",
            "12     168      63       0\n",
            "13     177      80       1\n",
            "14     189      95       1\n",
            "15     153      48       0\n",
            "16     167      58       0\n",
            "17     192      99       1\n",
            "18     205     110       1\n",
            "19     161      54       0\n",
            "20     172      72       1\n",
            "21     174      77       1\n",
            "22     162      64       0\n",
            "23     181      88       1\n",
            "24     186      91       1\n",
            "25     150      45       0\n",
            "26     168      61       0\n",
            "27     183      86       1\n",
            "28     198     101       1\n",
            "29     164      59       0\n",
            "30     173      71       1\n",
            "31     179      82       1\n",
            "32     160      53       0\n",
            "33     184      87       1\n",
            "34     187      94       1\n",
            "35     159      51       0\n",
            "36     176      79       0\n",
            "37     191      97       1\n",
            "38     202     105       1\n",
            "39     154      56       0\n",
            "40     180      76       1\n",
            "41     167      62       1\n",
            "42     174      78       0\n",
            "43     169      66       1\n",
            "44     168      69       0\n",
            "45     185      93       1\n",
            "46     176      74       1\n",
            "47     163      60       0\n",
            "48     190      95       1\n",
            "49     155      50       0\n"
          ]
        }
      ]
    }
  ]
}
