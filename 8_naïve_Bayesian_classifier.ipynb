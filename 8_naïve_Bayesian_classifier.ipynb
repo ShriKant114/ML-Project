{
  "nbformat": 4,
  "nbformat_minor": 0,
  "metadata": {
    "colab": {
      "provenance": [],
      "authorship_tag": "ABX9TyO3HoFLBrg8xJbeK+uUvT11",
      "include_colab_link": true
    },
    "kernelspec": {
      "name": "python3",
      "display_name": "Python 3"
    },
    "language_info": {
      "name": "python"
    }
  },
  "cells": [
    {
      "cell_type": "markdown",
      "metadata": {
        "id": "view-in-github",
        "colab_type": "text"
      },
      "source": [
        "<a href=\"https://colab.research.google.com/github/ShriKant114/ML-Project/blob/main/8_na%C3%AFve_Bayesian_classifier.ipynb\" target=\"_parent\"><img src=\"https://colab.research.google.com/assets/colab-badge.svg\" alt=\"Open In Colab\"/></a>"
      ]
    },
    {
      "cell_type": "code",
      "execution_count": 7,
      "metadata": {
        "colab": {
          "base_uri": "https://localhost:8080/"
        },
        "id": "hjXvATW6fg9K",
        "outputId": "bcfc91c5-f631-4e3b-cec3-b15a1338d3e9"
      },
      "outputs": [
        {
          "output_type": "stream",
          "name": "stdout",
          "text": [
            "Predictions: [0 1 1 2 1 1 1 1 1 1 1 2]\n",
            "Actual     : [0, 0, 0, 0, 0, 1, 1, 1, 1, 1, 1, 1]\n",
            "Accuracy of Naïve Bayes Classifier: 58.33%\n"
          ]
        }
      ],
      "source": [
        "import pandas as pd\n",
        "from sklearn.model_selection import train_test_split\n",
        "from sklearn.naive_bayes import GaussianNB\n",
        "from sklearn.preprocessing import LabelEncoder\n",
        "from sklearn.metrics import accuracy_score\n",
        "\n",
        "# Step 1: Load CSV data\n",
        "data = pd.read_csv('data.csv')\n",
        "\n",
        "# Step 2: Clean column names (remove extra spaces)\n",
        "data.columns = data.columns.str.strip()\n",
        "\n",
        "# Step 3: Encode categorical columns using LabelEncoder\n",
        "label_encoders = {}\n",
        "for column in data.columns:\n",
        "    le = LabelEncoder()\n",
        "    data[column] = le.fit_transform(data[column])\n",
        "    label_encoders[column] = le\n",
        "\n",
        "# Step 4: Separate features and target\n",
        "X = data.drop('PlayTennis', axis=1)  # Features\n",
        "y = data['PlayTennis']               # Target\n",
        "\n",
        "# Step 5: Train-test split (80% train, 20% test)\n",
        "X_train, X_test, y_train, y_test = train_test_split(X, y, test_size=0.2, random_state=42)\n",
        "\n",
        "# Step 6: Train the Naïve Bayes model\n",
        "model = GaussianNB()\n",
        "model.fit(X_train, y_train)\n",
        "\n",
        "# Step 7: Make predictions\n",
        "y_pred = model.predict(X_test)\n",
        "\n",
        "# Step 8: Evaluate accuracy\n",
        "accuracy = accuracy_score(y_test, y_pred)\n",
        "print(\"Predictions:\", y_pred)\n",
        "print(\"Actual     :\", list(y_test))\n",
        "print(f\"Accuracy of Naïve Bayes Classifier: {accuracy * 100:.2f}%\")\n"
      ]
    }
  ]
}