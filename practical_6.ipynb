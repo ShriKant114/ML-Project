{
  "nbformat": 4,
  "nbformat_minor": 0,
  "metadata": {
    "colab": {
      "provenance": [],
      "authorship_tag": "ABX9TyPkDja4iHbFYkTUYpXuTZYK",
      "include_colab_link": true
    },
    "kernelspec": {
      "name": "python3",
      "display_name": "Python 3"
    },
    "language_info": {
      "name": "python"
    }
  },
  "cells": [
    {
      "cell_type": "markdown",
      "metadata": {
        "id": "view-in-github",
        "colab_type": "text"
      },
      "source": [
        "<a href=\"https://colab.research.google.com/github/ShriKant114/ML-Project/blob/main/practical_6.ipynb\" target=\"_parent\"><img src=\"https://colab.research.google.com/assets/colab-badge.svg\" alt=\"Open In Colab\"/></a>"
      ]
    },
    {
      "cell_type": "code",
      "execution_count": 3,
      "metadata": {
        "colab": {
          "base_uri": "https://localhost:8080/",
          "height": 0
        },
        "id": "O1keXYm05xZK",
        "outputId": "40491280-5acb-4dc1-e77d-8f627d428382"
      },
      "outputs": [
        {
          "output_type": "stream",
          "name": "stdout",
          "text": [
            "Predictions:\n",
            "\n",
            "Correct:  Actual=1, Predicted=1\n",
            "Correct:  Actual=0, Predicted=0\n",
            "Correct:  Actual=2, Predicted=2\n",
            "Correct:  Actual=1, Predicted=1\n",
            "Correct:  Actual=1, Predicted=1\n",
            "Correct:  Actual=0, Predicted=0\n",
            "Correct:  Actual=1, Predicted=1\n",
            "Correct:  Actual=2, Predicted=2\n",
            "Correct:  Actual=1, Predicted=1\n",
            "Correct:  Actual=1, Predicted=1\n",
            "Correct:  Actual=2, Predicted=2\n",
            "Correct:  Actual=0, Predicted=0\n",
            "Correct:  Actual=0, Predicted=0\n",
            "Correct:  Actual=0, Predicted=0\n",
            "Correct:  Actual=0, Predicted=0\n",
            "Correct:  Actual=1, Predicted=1\n",
            "Correct:  Actual=2, Predicted=2\n",
            "Correct:  Actual=1, Predicted=1\n",
            "Correct:  Actual=1, Predicted=1\n",
            "Correct:  Actual=2, Predicted=2\n",
            "Correct:  Actual=0, Predicted=0\n",
            "Correct:  Actual=2, Predicted=2\n",
            "Correct:  Actual=0, Predicted=0\n",
            "Correct:  Actual=2, Predicted=2\n",
            "Correct:  Actual=2, Predicted=2\n",
            "Correct:  Actual=2, Predicted=2\n",
            "Correct:  Actual=2, Predicted=2\n",
            "Correct:  Actual=2, Predicted=2\n",
            "Correct:  Actual=0, Predicted=0\n",
            "Correct:  Actual=0, Predicted=0\n"
          ]
        }
      ],
      "source": [
        "from sklearn.datasets import load_iris\n",
        "from sklearn.model_selection import train_test_split\n",
        "from sklearn.preprocessing import StandardScaler\n",
        "from sklearn.neighbors import KNeighborsClassifier\n",
        "\n",
        "\n",
        "data = load_iris()\n",
        "X = data.data\n",
        "y = data.target\n",
        "\n",
        "\n",
        "scaler = StandardScaler()\n",
        "X = scaler.fit_transform(X)\n",
        "\n",
        "X_train, X_test, y_train, y_test = train_test_split(\n",
        "    X, y, test_size=0.2, random_state=42\n",
        ")\n",
        "\n",
        "k = 3\n",
        "knn = KNeighborsClassifier(n_neighbors=k)\n",
        "knn.fit(X_train, y_train)\n",
        "\n",
        "y_pred = knn.predict(X_test)\n",
        "\n",
        "correct = 0\n",
        "wrong = 0\n",
        "print(\"Predictions:\\n\")\n",
        "for actual, predicted in zip(y_test, y_pred):\n",
        "    if actual == predicted:\n",
        "        print(f\"Correct:  Actual={actual}, Predicted={predicted}\")\n",
        "        correct += 1\n",
        "    else:\n",
        "        print(f\"Wrong:    Actual={actual}, Predicted={predicted}\")\n",
        "        wrong += 1\n"
      ]
    },
    {
      "cell_type": "markdown",
      "source": [
        "**Dataset**"
      ],
      "metadata": {
        "id": "mkNQE9_173JA"
      }
    },
    {
      "cell_type": "code",
      "source": [
        "import pandas as pd\n",
        "from sklearn.datasets import load_iris\n",
        "\n",
        "data = load_iris()\n",
        "\n",
        "# Create a DataFrame\n",
        "df = pd.DataFrame(data.data, columns=data.feature_names)\n",
        "df['target'] = data.target\n",
        "\n",
        "# Now you can use head()\n",
        "print(df.head(10))\n"
      ],
      "metadata": {
        "colab": {
          "base_uri": "https://localhost:8080/"
        },
        "id": "JBuHWAfh6dQA",
        "outputId": "aa8cfd8d-4bb2-4dfc-d406-d83cc53e9f90"
      },
      "execution_count": 11,
      "outputs": [
        {
          "output_type": "stream",
          "name": "stdout",
          "text": [
            "   sepal length (cm)  sepal width (cm)  petal length (cm)  petal width (cm)  \\\n",
            "0                5.1               3.5                1.4               0.2   \n",
            "1                4.9               3.0                1.4               0.2   \n",
            "2                4.7               3.2                1.3               0.2   \n",
            "3                4.6               3.1                1.5               0.2   \n",
            "4                5.0               3.6                1.4               0.2   \n",
            "5                5.4               3.9                1.7               0.4   \n",
            "6                4.6               3.4                1.4               0.3   \n",
            "7                5.0               3.4                1.5               0.2   \n",
            "8                4.4               2.9                1.4               0.2   \n",
            "9                4.9               3.1                1.5               0.1   \n",
            "\n",
            "   target  \n",
            "0       0  \n",
            "1       0  \n",
            "2       0  \n",
            "3       0  \n",
            "4       0  \n",
            "5       0  \n",
            "6       0  \n",
            "7       0  \n",
            "8       0  \n",
            "9       0  \n"
          ]
        }
      ]
    }
  ]
}